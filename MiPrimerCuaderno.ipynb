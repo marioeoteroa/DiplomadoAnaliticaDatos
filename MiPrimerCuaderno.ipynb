{
  "cells": [
    {
      "cell_type": "markdown",
      "source": [
        "<h1>Mi Primer Cuaderno</h1>"
      ],
      "metadata": {
        "application/vnd.databricks.v1+cell": {
          "title": "",
          "showTitle": false,
          "inputWidgets": {},
          "nuid": "abaad68f-4b7b-4202-adcc-46f56c90f223"
        },
        "id": "z0E1O2_iQLkv"
      }
    },
    {
      "cell_type": "markdown",
      "source": [
        "<p><strong>Objetivo: </strong> El objetivo de este cuaderno es explorar lo esencial del lenguaje de programación Python.  </p>"
      ],
      "metadata": {
        "application/vnd.databricks.v1+cell": {
          "title": "",
          "showTitle": false,
          "inputWidgets": {},
          "nuid": "77d46120-36ed-4cfc-9800-549f5b556d79"
        },
        "id": "bHxl0aUBQLkx"
      }
    },
    {
      "cell_type": "markdown",
      "source": [
        "#Print Hola Mundo\n",
        "\n"
      ],
      "metadata": {
        "application/vnd.databricks.v1+cell": {
          "title": "",
          "showTitle": false,
          "inputWidgets": {},
          "nuid": "d3a1d0c3-8ad7-465d-ae53-459041e23ad1"
        },
        "id": "r_LOr4vtQLkz"
      }
    },
    {
      "cell_type": "markdown",
      "source": [
        "Vamos a crear nuestro primer programa en Python. Su función será imprimir un mensaje \"Hola Mundo\". Para ejecutar el código que construyas puede hacerlo pulsanado <kbd>Mayúsculas</kbd> + <kbd>Enter</kbd> o puedes hacer clic en la parte superior izquierda de la celda y hacer clic en el botón del triángulo que indica Run Cell."
      ],
      "metadata": {
        "application/vnd.databricks.v1+cell": {
          "title": "",
          "showTitle": false,
          "inputWidgets": {},
          "nuid": "b1e3eb42-549b-418f-8ae1-d85cb1671347"
        },
        "id": "Ks4X54GLQLk0"
      }
    },
    {
      "cell_type": "code",
      "source": [
        "# Tu primer programa en Python\n",
        "\n",
        "print('¡Hola Mundo!')"
      ],
      "metadata": {
        "application/vnd.databricks.v1+cell": {
          "title": "",
          "showTitle": false,
          "inputWidgets": {},
          "nuid": "a67dca6b-8e67-4d04-8e9b-38ea8a3f1976"
        },
        "colab": {
          "base_uri": "https://localhost:8080/"
        },
        "id": "Sr80od_7QLk0",
        "outputId": "3f6727f6-bc51-45f8-9aca-ede72486c95d"
      },
      "outputs": [
        {
          "output_type": "stream",
          "name": "stdout",
          "text": [
            "¡Hola Mundo!\n"
          ]
        }
      ],
      "execution_count": null
    },
    {
      "cell_type": "markdown",
      "source": [
        "Después de ejecutar la celda de arriba, deberías ver que Python imprime <code>¡Hola Mundo!</code>. Si es así,  ¡Felicitaciones acabas de ejecutar tu primer programa en Python! Si obtienes un mensaje de error, revisa que estés registrado."
      ],
      "metadata": {
        "application/vnd.databricks.v1+cell": {
          "title": "",
          "showTitle": false,
          "inputWidgets": {},
          "nuid": "ac9722da-a1eb-4e33-b844-25ec5259649f"
        },
        "id": "EJItbsgAQLk2"
      }
    },
    {
      "cell_type": "markdown",
      "source": [
        "<hr/>\n",
        "<div class=\"alert alert-success alertsuccess\" style=\"margin-top: 20px\">\n",
        "   <strong>AHORA TÚ: </strong>  Usando la función <code>print()</code> escribe en la celda de abajo otro mensaje que quieras imprimir y ejecútalo.\n",
        "</div>\n",
        "<hr/>"
      ],
      "metadata": {
        "application/vnd.databricks.v1+cell": {
          "title": "",
          "showTitle": false,
          "inputWidgets": {},
          "nuid": "4e344dfc-9ddf-40f3-a547-a49e97113763"
        },
        "id": "PBc1tYlzQLk5"
      }
    },
    {
      "cell_type": "code",
      "source": [
        "# Escribe en esta celda un nuevo mensaje usando la función print\n"
      ],
      "metadata": {
        "application/vnd.databricks.v1+cell": {
          "title": "",
          "showTitle": false,
          "inputWidgets": {},
          "nuid": "dd305c92-7e2f-460e-96dd-294bc161569c"
        },
        "id": "rHCQ-XnWQLk5"
      },
      "outputs": [],
      "execution_count": null
    },
    {
      "cell_type": "markdown",
      "source": [
        "Haz doble clic  __aquí__ para ver la solución.\n",
        "\n",
        "<!-- Tu respuesta está a continuación:\n",
        "\n",
        "print(\"Este es un ejemplo de mi nuevo texto\")\n",
        "\n",
        "-->"
      ],
      "metadata": {
        "application/vnd.databricks.v1+cell": {
          "title": "",
          "showTitle": false,
          "inputWidgets": {},
          "nuid": "e9acbddf-2f15-463a-b2e7-495ece2e2ded"
        },
        "id": "rFBxH9cpQLk6"
      }
    },
    {
      "cell_type": "markdown",
      "source": [
        "# Comentarios en Python"
      ],
      "metadata": {
        "application/vnd.databricks.v1+cell": {
          "title": "",
          "showTitle": false,
          "inputWidgets": {},
          "nuid": "7354c648-198a-457d-bae0-78bd5c084bcd"
        },
        "id": "SCoA3PHUQLk6"
      }
    },
    {
      "cell_type": "markdown",
      "source": [
        "<p>\n",
        "   Como pudiste ver en el \"Hola Mundo\" algunas líneas tenían el símbolo <code>#</code>, esta líneas indican que se hizo un comentario y lo que tienen escrito está orientado a los humanos y no a la máquina. Puedes usar comentarios cuando lo necesites y sobre todo para que otras personas entiendan más fácilmente tu código. <br> También es de mucha utilidad cuando quieres que una parte del código no se ejecute, pero aún no lo quieres borrar."
      ],
      "metadata": {
        "application/vnd.databricks.v1+cell": {
          "title": "",
          "showTitle": false,
          "inputWidgets": {},
          "nuid": "de12964e-aba0-4716-a37a-098019a75ce1"
        },
        "id": "gSfFi6oBQLk7"
      }
    },
    {
      "cell_type": "code",
      "source": [
        "# Este programa escribe en pantalla una cadena de caracteres\n",
        "\n",
        "print('¡Hola Mundo!') # Esta línea imprime la cadena de texto Hola Mundo\n",
        "# print('¡Hola Mundo Hermoso!')"
      ],
      "metadata": {
        "application/vnd.databricks.v1+cell": {
          "title": "",
          "showTitle": false,
          "inputWidgets": {},
          "nuid": "d55e71f2-3d41-47a5-b6fd-34391500a775"
        },
        "colab": {
          "base_uri": "https://localhost:8080/"
        },
        "id": "R5o7pqrOQLk7",
        "outputId": "4429c0e5-a1e2-4a2b-8e1e-9aef6e78e5f2"
      },
      "outputs": [
        {
          "output_type": "stream",
          "name": "stdout",
          "text": [
            "¡Hola Mundo!\n"
          ]
        }
      ],
      "execution_count": null
    },
    {
      "cell_type": "markdown",
      "source": [
        "<p>\n",
        "    Después de ejecutar la celda de arriba, puedes observar que <code>Esta línea imprime la cadena de texto Hola Mundo</code> no apareció en el resultado, pues era un comentario.\n",
        "</p>\n",
        "<p>\n",
        "    La segunda línea tampoco se ejecutó porque <code>print('¡Hola Mundo Hermoso!')</code> también estaba precedida por el símbolo numeral (<code>#</code>)\n",
        "</p>"
      ],
      "metadata": {
        "application/vnd.databricks.v1+cell": {
          "title": "",
          "showTitle": false,
          "inputWidgets": {},
          "nuid": "35c2b31a-fb0e-4e36-9c46-7c746bd39879"
        },
        "id": "Sh5cYNreQLk8"
      }
    },
    {
      "cell_type": "markdown",
      "source": [
        "# Errores en Python"
      ],
      "metadata": {
        "application/vnd.databricks.v1+cell": {
          "title": "",
          "showTitle": false,
          "inputWidgets": {},
          "nuid": "43c7cb34-6d26-42e0-9811-f7e5e7b6a138"
        },
        "id": "_XegyLckQLk8"
      }
    },
    {
      "cell_type": "markdown",
      "source": [
        "<p>Cuando escribas código en Python, y en cualquier lenguaje de programación, con errores, al ejecutarlo te aparecerá un mensaje de error.</p>\n",
        "<p>Por ejemplo, si escribes en vez de <code>print</code> la palabra <code>rint</code>, Python te mostrará un mensaje de error. Pruébalo:</p>"
      ],
      "metadata": {
        "application/vnd.databricks.v1+cell": {
          "title": "",
          "showTitle": false,
          "inputWidgets": {},
          "nuid": "8ad80d15-6a3f-48ae-9db0-e17ec103bc62"
        },
        "id": "vpDYVoTuQLk8"
      }
    },
    {
      "cell_type": "code",
      "source": [
        "# Imprimir cadena como mensaje de error\n",
        "\n",
        "rint(\"¡Hola Mundo!\")"
      ],
      "metadata": {
        "application/vnd.databricks.v1+cell": {
          "title": "",
          "showTitle": false,
          "inputWidgets": {},
          "nuid": "09b1b453-84e6-4858-812f-ed4d9913c9a5"
        },
        "colab": {
          "base_uri": "https://localhost:8080/",
          "height": 236
        },
        "id": "caNv8nrMQLk8",
        "outputId": "cec71d19-bdb9-45e8-cb3c-75fc7bc34105"
      },
      "outputs": [
        {
          "output_type": "error",
          "ename": "NameError",
          "evalue": "ignored",
          "traceback": [
            "\u001b[0;31m---------------------------------------------------------------------------\u001b[0m",
            "\u001b[0;31mNameError\u001b[0m                                 Traceback (most recent call last)",
            "\u001b[0;32m<ipython-input-5-523dae167b5e>\u001b[0m in \u001b[0;36m<module>\u001b[0;34m()\u001b[0m\n\u001b[1;32m      1\u001b[0m \u001b[0;31m# Imprimir cadena como mensaje de error\u001b[0m\u001b[0;34m\u001b[0m\u001b[0;34m\u001b[0m\u001b[0;34m\u001b[0m\u001b[0m\n\u001b[1;32m      2\u001b[0m \u001b[0;34m\u001b[0m\u001b[0m\n\u001b[0;32m----> 3\u001b[0;31m \u001b[0mrint\u001b[0m\u001b[0;34m(\u001b[0m\u001b[0;34m\"¡Hola Mundo!\"\u001b[0m\u001b[0;34m)\u001b[0m\u001b[0;34m\u001b[0m\u001b[0;34m\u001b[0m\u001b[0m\n\u001b[0m",
            "\u001b[0;31mNameError\u001b[0m: name 'rint' is not defined"
          ]
        }
      ],
      "execution_count": null
    },
    {
      "cell_type": "markdown",
      "source": [
        "<p>El mensaje de error te dice: \n",
        "<ol>\n",
        "    <li>dónde se produjo el error (más útil en celdas de cuadernos o scripts de gran tamaño), y</li> \n",
        "    <li>qué tipo de error era (NameError)</li> \n",
        "</ol>"
      ],
      "metadata": {
        "application/vnd.databricks.v1+cell": {
          "title": "",
          "showTitle": false,
          "inputWidgets": {},
          "nuid": "06492255-31c3-4059-8ffa-3035093d975a"
        },
        "id": "fTK-R4zhQLk9"
      }
    },
    {
      "cell_type": "markdown",
      "source": [
        "# Variables en Python"
      ],
      "metadata": {
        "application/vnd.databricks.v1+cell": {
          "title": "",
          "showTitle": false,
          "inputWidgets": {},
          "nuid": "9992344b-804c-4791-a231-e71119622648"
        },
        "id": "C5M-h9i8QLk9"
      }
    },
    {
      "cell_type": "markdown",
      "source": [
        "<p>Como en la mayoría de los lenguajes de programación, es posible almacenar valores en <i>variables</i> para poder usarlos más tarde. Por ejemplo:</p>"
      ],
      "metadata": {
        "application/vnd.databricks.v1+cell": {
          "title": "",
          "showTitle": false,
          "inputWidgets": {},
          "nuid": "21634458-29a9-4590-ab67-b523ea556b94"
        },
        "id": "s7TMZnaHQLk9"
      }
    },
    {
      "cell_type": "code",
      "source": [
        "# Almacena el valor en una variable llamada x\n",
        "\n",
        "x = 24 * 7"
      ],
      "metadata": {
        "application/vnd.databricks.v1+cell": {
          "title": "",
          "showTitle": false,
          "inputWidgets": {},
          "nuid": "968d890f-2d38-419b-b613-7de6e96e4a9a"
        },
        "id": "Q_HuLGoVQLk9"
      },
      "outputs": [],
      "execution_count": null
    },
    {
      "cell_type": "markdown",
      "source": [
        "<p>Para ver el valor de <code>x</code> en un Cuaderno, podemos simplemente colocarlo en una celda:</p>"
      ],
      "metadata": {
        "application/vnd.databricks.v1+cell": {
          "title": "",
          "showTitle": false,
          "inputWidgets": {},
          "nuid": "8c46bd15-40b4-4973-9055-a8b7a5c2148d"
        },
        "id": "497-CZrwQLk9"
      }
    },
    {
      "cell_type": "code",
      "source": [
        "# Imprime el valor de la variable\n",
        "\n",
        "x"
      ],
      "metadata": {
        "application/vnd.databricks.v1+cell": {
          "title": "",
          "showTitle": false,
          "inputWidgets": {},
          "nuid": "54e87252-bbba-4dd1-9074-c8842a540f6c"
        },
        "colab": {
          "base_uri": "https://localhost:8080/"
        },
        "id": "R_4omqhHQLk-",
        "outputId": "c473eaf4-ae52-4a4e-d785-d636f714bba7"
      },
      "outputs": [
        {
          "output_type": "execute_result",
          "data": {
            "text/plain": [
              "168"
            ]
          },
          "metadata": {},
          "execution_count": 7
        }
      ],
      "execution_count": null
    },
    {
      "cell_type": "markdown",
      "source": [
        "<p>O también lo puedes imprimir con un texto separando el texto de las variables con <code>,</code> como aparece a continuación:</p>"
      ],
      "metadata": {
        "application/vnd.databricks.v1+cell": {
          "title": "",
          "showTitle": false,
          "inputWidgets": {},
          "nuid": "80bc34d5-4b5c-4f21-b47c-efd8edfa2d79"
        },
        "id": "qmdeaHE1QLk-"
      }
    },
    {
      "cell_type": "code",
      "source": [
        "# Imprime el valor de la variable x con un texto\n",
        "\n",
        "print (\"Un semana tiene \", x , \"horas\")"
      ],
      "metadata": {
        "application/vnd.databricks.v1+cell": {
          "title": "",
          "showTitle": false,
          "inputWidgets": {},
          "nuid": "4a6b95c9-33db-42c8-87cd-3422e58cf8df"
        },
        "colab": {
          "base_uri": "https://localhost:8080/"
        },
        "id": "ta8eT9vGQLk-",
        "outputId": "08f7c780-5012-43e5-ed02-bb459827a28a"
      },
      "outputs": [
        {
          "output_type": "stream",
          "name": "stdout",
          "text": [
            "Un semana tiene  168 horas\n"
          ]
        }
      ],
      "execution_count": null
    },
    {
      "cell_type": "markdown",
      "source": [
        "<hr/>\n",
        "<div class=\"alert alert-success alertsuccess\" style=\"margin-top: 20px\">\n",
        "   <strong>AHORA TÚ: </strong>  Escribe un código que le asigne a una variable  llamada <code> y </code> el número de horas que tiene un año NO bisiesto, posteriormente imprime \"Un año tiene <code> y </code> horas\" en donde  <code> y </code> debe ser el valor obtenido en la variable <code> y </code>. <br>\n",
        "  \n",
        "</div>\n",
        "<hr/>"
      ],
      "metadata": {
        "application/vnd.databricks.v1+cell": {
          "title": "",
          "showTitle": false,
          "inputWidgets": {},
          "nuid": "37a183cd-58fd-44a5-8df8-18fc1f7dd5f3"
        },
        "id": "I-3KAPu9QLk-"
      }
    },
    {
      "cell_type": "code",
      "source": [
        "# Escribe el código acá\n"
      ],
      "metadata": {
        "application/vnd.databricks.v1+cell": {
          "title": "",
          "showTitle": false,
          "inputWidgets": {},
          "nuid": "4cedd511-5836-4518-b08c-3818a0e33321"
        },
        "id": "tSu7AZTZQLk-"
      },
      "outputs": [],
      "execution_count": null
    },
    {
      "cell_type": "markdown",
      "source": [
        "<hr/>\n",
        "<div class=\"alert alert-success alertsuccess\" style=\"margin-top: 20px\">\n",
        "   <strong>AHORA TÚ: </strong>  Ahora crea una variable llamada <code> z </code> que agregue 24 horas a la variable <code> y </code> e imprímelo indicando \"Un año bisiesto tiene <code> z </code> horas\" en donde  <code> z </code> debe ser el valor obtenido en la variable <code> z </code>.\n",
        "</div>\n",
        "<hr/>"
      ],
      "metadata": {
        "application/vnd.databricks.v1+cell": {
          "title": "",
          "showTitle": false,
          "inputWidgets": {},
          "nuid": "7a258750-fe19-4e39-b6b0-2584ccffb459"
        },
        "id": "_hm_a2zwQLk_"
      }
    },
    {
      "cell_type": "code",
      "source": [
        "# Escribe el código acá"
      ],
      "metadata": {
        "application/vnd.databricks.v1+cell": {
          "title": "",
          "showTitle": false,
          "inputWidgets": {},
          "nuid": "9ba3ab5f-a624-4e3c-b54a-268ea16e7869"
        },
        "id": "O2ovvktzQLk_"
      },
      "outputs": [],
      "execution_count": null
    },
    {
      "cell_type": "markdown",
      "source": [
        "Haz doble clic en __aquí__ para ver la solución.\n",
        "\n",
        "<!-- Tu respuesta está a continuación:\n",
        "y = 365*24\n",
        "print (\"Un año tiene \", y, \"horas\")\n",
        "z = y + 24\n",
        "print (\"Un año bisiesto tiene \", z, \"horas\")\n",
        "-->"
      ],
      "metadata": {
        "application/vnd.databricks.v1+cell": {
          "title": "",
          "showTitle": false,
          "inputWidgets": {},
          "nuid": "4ebea71a-e073-4944-936d-9409b7ae5982"
        },
        "id": "6MFrXDQoQLk_"
      }
    },
    {
      "cell_type": "markdown",
      "source": [
        "<strong>¡Felicitaciones!</strong> acabas de terminar tu primer cuaderno en Python \n",
        "<hr/>"
      ],
      "metadata": {
        "application/vnd.databricks.v1+cell": {
          "title": "",
          "showTitle": false,
          "inputWidgets": {},
          "nuid": "61c2d83e-0fee-484f-b5af-83f456afa168"
        },
        "id": "a9VLMie3QLk_"
      }
    }
  ],
  "metadata": {
    "application/vnd.databricks.v1+notebook": {
      "notebookName": "MiPrimerCuaderno",
      "dashboards": [],
      "notebookMetadata": {
        "pythonIndentUnit": 2
      },
      "language": "python",
      "widgets": {},
      "notebookOrigID": 2715937822205391
    },
    "colab": {
      "name": "MiPrimerCuaderno.ipynb",
      "provenance": [],
      "collapsed_sections": []
    },
    "language_info": {
      "name": "python"
    },
    "kernelspec": {
      "name": "python3",
      "display_name": "Python 3"
    }
  },
  "nbformat": 4,
  "nbformat_minor": 0
}